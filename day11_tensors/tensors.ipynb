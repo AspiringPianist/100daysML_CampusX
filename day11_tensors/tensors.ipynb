{
 "cells": [
  {
   "cell_type": "markdown",
   "id": "b2335dd4-4078-4657-b03d-0ebf5a59975c",
   "metadata": {},
   "source": [
    "## 0D Tensor"
   ]
  },
  {
   "cell_type": "code",
   "execution_count": 1,
   "id": "402e7c0f-1561-4153-b763-27c64ef1f422",
   "metadata": {},
   "outputs": [],
   "source": [
    "import numpy as np"
   ]
  },
  {
   "cell_type": "code",
   "execution_count": 2,
   "id": "c6d3faa1-9f78-44cb-91e4-4010322f5ed1",
   "metadata": {},
   "outputs": [],
   "source": [
    "a = np.array(4)"
   ]
  },
  {
   "cell_type": "code",
   "execution_count": 3,
   "id": "b3bca070-1946-420f-bf6b-cc38406a52e8",
   "metadata": {},
   "outputs": [
    {
     "data": {
      "text/plain": [
       "array(4)"
      ]
     },
     "execution_count": 3,
     "metadata": {},
     "output_type": "execute_result"
    }
   ],
   "source": [
    "a"
   ]
  },
  {
   "cell_type": "code",
   "execution_count": 4,
   "id": "74562f38-0784-4342-8b81-cd52d0afea31",
   "metadata": {},
   "outputs": [
    {
     "data": {
      "text/plain": [
       "0"
      ]
     },
     "execution_count": 4,
     "metadata": {},
     "output_type": "execute_result"
    }
   ],
   "source": [
    "a.ndim"
   ]
  },
  {
   "cell_type": "code",
   "execution_count": 5,
   "id": "b7e0f879-3602-4323-942c-398a21368a4f",
   "metadata": {},
   "outputs": [
    {
     "data": {
      "text/plain": [
       "()"
      ]
     },
     "execution_count": 5,
     "metadata": {},
     "output_type": "execute_result"
    }
   ],
   "source": [
    "a.shape"
   ]
  },
  {
   "cell_type": "markdown",
   "id": "624e4647-4854-444d-b74e-85d1e844c0ea",
   "metadata": {},
   "source": [
    "## 1D Tensor"
   ]
  },
  {
   "cell_type": "markdown",
   "id": "0f3f5983-e142-4d82-b3aa-4236a92c2c69",
   "metadata": {},
   "source": [
    "Sometimes number of dimensions = rank of tensor = number of axes"
   ]
  },
  {
   "cell_type": "code",
   "execution_count": 6,
   "id": "6ec79ca3-2e21-45ec-80cf-6237c5a00056",
   "metadata": {},
   "outputs": [],
   "source": [
    "arr = np.array([1, 2, 3, 4])"
   ]
  },
  {
   "cell_type": "code",
   "execution_count": 7,
   "id": "70289779-1986-46a4-95e3-1715660ea9da",
   "metadata": {},
   "outputs": [
    {
     "data": {
      "text/plain": [
       "array([1, 2, 3, 4])"
      ]
     },
     "execution_count": 7,
     "metadata": {},
     "output_type": "execute_result"
    }
   ],
   "source": [
    "arr"
   ]
  },
  {
   "cell_type": "code",
   "execution_count": 8,
   "id": "1f3c3f36-fa23-4c93-81a2-4711ce03068d",
   "metadata": {},
   "outputs": [
    {
     "data": {
      "text/plain": [
       "1"
      ]
     },
     "execution_count": 8,
     "metadata": {},
     "output_type": "execute_result"
    }
   ],
   "source": [
    "arr.ndim"
   ]
  },
  {
   "cell_type": "markdown",
   "id": "389cb449-c674-40fb-ade8-9e8ec6ba98d6",
   "metadata": {},
   "source": [
    "### vector dimension of [1, 2, 3, 4] is 4"
   ]
  },
  {
   "cell_type": "markdown",
   "id": "e84cc541-0305-490a-833a-68967d28abe7",
   "metadata": {},
   "source": [
    "## 2D Tensor/Matrice"
   ]
  },
  {
   "cell_type": "code",
   "execution_count": 9,
   "id": "278297ce-659a-4ee8-8429-4bff3f58fce2",
   "metadata": {},
   "outputs": [],
   "source": [
    "mat = np.array([[1, 2, 3, 4], [5, 6, 7, 8]])"
   ]
  },
  {
   "cell_type": "code",
   "execution_count": 10,
   "id": "51bef34b-bbcf-4ab5-a10c-5d50c623abdc",
   "metadata": {},
   "outputs": [
    {
     "data": {
      "text/plain": [
       "array([[1, 2, 3, 4],\n",
       "       [5, 6, 7, 8]])"
      ]
     },
     "execution_count": 10,
     "metadata": {},
     "output_type": "execute_result"
    }
   ],
   "source": [
    "mat"
   ]
  },
  {
   "cell_type": "code",
   "execution_count": 11,
   "id": "5f96f953-dc16-4598-8e3b-c3e26fad184e",
   "metadata": {},
   "outputs": [
    {
     "data": {
      "text/plain": [
       "2"
      ]
     },
     "execution_count": 11,
     "metadata": {},
     "output_type": "execute_result"
    }
   ],
   "source": [
    "mat.ndim"
   ]
  },
  {
   "cell_type": "code",
   "execution_count": 12,
   "id": "37cbf81c-2d98-407c-bd44-180c3413625a",
   "metadata": {},
   "outputs": [
    {
     "data": {
      "text/plain": [
       "array([1, 2, 3, 4])"
      ]
     },
     "execution_count": 12,
     "metadata": {},
     "output_type": "execute_result"
    }
   ],
   "source": [
    "mat[0]"
   ]
  },
  {
   "cell_type": "code",
   "execution_count": 15,
   "id": "ba74c534-feaf-407d-8993-b0e240f4b6f3",
   "metadata": {},
   "outputs": [
    {
     "data": {
      "text/plain": [
       "1"
      ]
     },
     "execution_count": 15,
     "metadata": {},
     "output_type": "execute_result"
    }
   ],
   "source": [
    "mat[0].ndim"
   ]
  },
  {
   "cell_type": "markdown",
   "id": "17f30823-7e64-4378-b9d3-a704c431d6f7",
   "metadata": {},
   "source": [
    "## Shape"
   ]
  },
  {
   "cell_type": "markdown",
   "id": "be368db7-6691-4e11-9f96-037409f329e7",
   "metadata": {},
   "source": [
    "It is the maximum number of numbers you can contain in an axis/dimension"
   ]
  },
  {
   "cell_type": "code",
   "execution_count": 16,
   "id": "68c85f8e-d0e8-46c8-befa-5876aaa943ec",
   "metadata": {},
   "outputs": [
    {
     "data": {
      "text/plain": [
       "(2, 4)"
      ]
     },
     "execution_count": 16,
     "metadata": {},
     "output_type": "execute_result"
    }
   ],
   "source": [
    "mat.shape"
   ]
  },
  {
   "cell_type": "code",
   "execution_count": 17,
   "id": "fe5043a9-fa8c-4463-a49f-90adffa82272",
   "metadata": {},
   "outputs": [
    {
     "data": {
      "text/plain": [
       "2"
      ]
     },
     "execution_count": 17,
     "metadata": {},
     "output_type": "execute_result"
    }
   ],
   "source": [
    "mat.ndim"
   ]
  },
  {
   "cell_type": "markdown",
   "id": "479c93d0-b752-478f-9d09-9c5456598319",
   "metadata": {},
   "source": [
    "## Size \n",
    "just how many numbers it stores"
   ]
  },
  {
   "cell_type": "code",
   "execution_count": 18,
   "id": "408d0065-ee08-4549-abad-c27c9f118117",
   "metadata": {},
   "outputs": [
    {
     "data": {
      "text/plain": [
       "8"
      ]
     },
     "execution_count": 18,
     "metadata": {},
     "output_type": "execute_result"
    }
   ],
   "source": [
    "mat.size"
   ]
  }
 ],
 "metadata": {
  "kernelspec": {
   "display_name": "Python 3 (ipykernel)",
   "language": "python",
   "name": "python3"
  },
  "language_info": {
   "codemirror_mode": {
    "name": "ipython",
    "version": 3
   },
   "file_extension": ".py",
   "mimetype": "text/x-python",
   "name": "python",
   "nbconvert_exporter": "python",
   "pygments_lexer": "ipython3",
   "version": "3.12.9"
  }
 },
 "nbformat": 4,
 "nbformat_minor": 5
}
